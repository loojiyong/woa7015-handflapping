{
  "cells": [
    {
      "cell_type": "markdown",
      "source": [
        "# Load video\n",
        "Before we start this, we have to upload the videos to the folder `videos/`"
      ],
      "metadata": {
        "id": "Jq6XgYLiuTSt"
      }
    },
    {
      "cell_type": "markdown",
      "metadata": {
        "id": "deZSCNM4U9GH"
      },
      "source": [
        "# Pre-requisite installation\n",
        "We have to install the necessary libraries, which includes:\n",
        "* einops for performing complex tensor operations,\n",
        "* opencv for video files processing\n",
        "* tensorflow"
      ]
    },
    {
      "cell_type": "code",
      "execution_count": null,
      "metadata": {
        "colab": {
          "base_uri": "https://localhost:8080/",
          "height": 1000
        },
        "id": "as1KHGGNu6X1",
        "outputId": "f6bce807-d7c1-466a-ed97-0a1b2e2be8fe"
      },
      "outputs": [
        {
          "output_type": "stream",
          "name": "stdout",
          "text": [
            "Collecting einops\n",
            "  Downloading einops-0.7.0-py3-none-any.whl (44 kB)\n",
            "\u001b[?25l     \u001b[90m━━━━━━━━━━━━━━━━━━━━━━━━━━━━━━━━━━━━━━━━\u001b[0m \u001b[32m0.0/44.6 kB\u001b[0m \u001b[31m?\u001b[0m eta \u001b[36m-:--:--\u001b[0m\r\u001b[2K     \u001b[90m━━━━━━━━━━━━━━━━━━━━━━━━━━━━━━━━━━━━━━━━\u001b[0m \u001b[32m44.6/44.6 kB\u001b[0m \u001b[31m1.1 MB/s\u001b[0m eta \u001b[36m0:00:00\u001b[0m\n",
            "\u001b[?25hRequirement already satisfied: opencv-python in /usr/local/lib/python3.10/dist-packages (4.8.0.76)\n",
            "Collecting tensorflow==2.10.0\n",
            "  Downloading tensorflow-2.10.0-cp310-cp310-manylinux_2_17_x86_64.manylinux2014_x86_64.whl (578.0 MB)\n",
            "\u001b[2K     \u001b[90m━━━━━━━━━━━━━━━━━━━━━━━━━━━━━━━━━━━━━━━━\u001b[0m \u001b[32m578.0/578.0 MB\u001b[0m \u001b[31m2.1 MB/s\u001b[0m eta \u001b[36m0:00:00\u001b[0m\n",
            "\u001b[?25hRequirement already satisfied: absl-py>=1.0.0 in /usr/local/lib/python3.10/dist-packages (from tensorflow==2.10.0) (1.4.0)\n",
            "Requirement already satisfied: astunparse>=1.6.0 in /usr/local/lib/python3.10/dist-packages (from tensorflow==2.10.0) (1.6.3)\n",
            "Requirement already satisfied: flatbuffers>=2.0 in /usr/local/lib/python3.10/dist-packages (from tensorflow==2.10.0) (23.5.26)\n",
            "Collecting gast<=0.4.0,>=0.2.1 (from tensorflow==2.10.0)\n",
            "  Downloading gast-0.4.0-py3-none-any.whl (9.8 kB)\n",
            "Requirement already satisfied: google-pasta>=0.1.1 in /usr/local/lib/python3.10/dist-packages (from tensorflow==2.10.0) (0.2.0)\n",
            "Requirement already satisfied: grpcio<2.0,>=1.24.3 in /usr/local/lib/python3.10/dist-packages (from tensorflow==2.10.0) (1.60.0)\n",
            "Requirement already satisfied: h5py>=2.9.0 in /usr/local/lib/python3.10/dist-packages (from tensorflow==2.10.0) (3.9.0)\n",
            "Collecting keras<2.11,>=2.10.0 (from tensorflow==2.10.0)\n",
            "  Downloading keras-2.10.0-py2.py3-none-any.whl (1.7 MB)\n",
            "\u001b[2K     \u001b[90m━━━━━━━━━━━━━━━━━━━━━━━━━━━━━━━━━━━━━━━━\u001b[0m \u001b[32m1.7/1.7 MB\u001b[0m \u001b[31m35.7 MB/s\u001b[0m eta \u001b[36m0:00:00\u001b[0m\n",
            "\u001b[?25hCollecting keras-preprocessing>=1.1.1 (from tensorflow==2.10.0)\n",
            "  Downloading Keras_Preprocessing-1.1.2-py2.py3-none-any.whl (42 kB)\n",
            "\u001b[2K     \u001b[90m━━━━━━━━━━━━━━━━━━━━━━━━━━━━━━━━━━━━━━━━\u001b[0m \u001b[32m42.6/42.6 kB\u001b[0m \u001b[31m2.3 MB/s\u001b[0m eta \u001b[36m0:00:00\u001b[0m\n",
            "\u001b[?25hRequirement already satisfied: libclang>=13.0.0 in /usr/local/lib/python3.10/dist-packages (from tensorflow==2.10.0) (16.0.6)\n",
            "Requirement already satisfied: numpy>=1.20 in /usr/local/lib/python3.10/dist-packages (from tensorflow==2.10.0) (1.23.5)\n",
            "Requirement already satisfied: opt-einsum>=2.3.2 in /usr/local/lib/python3.10/dist-packages (from tensorflow==2.10.0) (3.3.0)\n",
            "Requirement already satisfied: packaging in /usr/local/lib/python3.10/dist-packages (from tensorflow==2.10.0) (23.2)\n",
            "Collecting protobuf<3.20,>=3.9.2 (from tensorflow==2.10.0)\n",
            "  Downloading protobuf-3.19.6-cp310-cp310-manylinux_2_17_x86_64.manylinux2014_x86_64.whl (1.1 MB)\n",
            "\u001b[2K     \u001b[90m━━━━━━━━━━━━━━━━━━━━━━━━━━━━━━━━━━━━━━━━\u001b[0m \u001b[32m1.1/1.1 MB\u001b[0m \u001b[31m45.0 MB/s\u001b[0m eta \u001b[36m0:00:00\u001b[0m\n",
            "\u001b[?25hRequirement already satisfied: setuptools in /usr/local/lib/python3.10/dist-packages (from tensorflow==2.10.0) (67.7.2)\n",
            "Requirement already satisfied: six>=1.12.0 in /usr/local/lib/python3.10/dist-packages (from tensorflow==2.10.0) (1.16.0)\n",
            "Collecting tensorboard<2.11,>=2.10 (from tensorflow==2.10.0)\n",
            "  Downloading tensorboard-2.10.1-py3-none-any.whl (5.9 MB)\n",
            "\u001b[2K     \u001b[90m━━━━━━━━━━━━━━━━━━━━━━━━━━━━━━━━━━━━━━━━\u001b[0m \u001b[32m5.9/5.9 MB\u001b[0m \u001b[31m49.2 MB/s\u001b[0m eta \u001b[36m0:00:00\u001b[0m\n",
            "\u001b[?25hRequirement already satisfied: tensorflow-io-gcs-filesystem>=0.23.1 in /usr/local/lib/python3.10/dist-packages (from tensorflow==2.10.0) (0.35.0)\n",
            "Collecting tensorflow-estimator<2.11,>=2.10.0 (from tensorflow==2.10.0)\n",
            "  Downloading tensorflow_estimator-2.10.0-py2.py3-none-any.whl (438 kB)\n",
            "\u001b[2K     \u001b[90m━━━━━━━━━━━━━━━━━━━━━━━━━━━━━━━━━━━━━━━━\u001b[0m \u001b[32m438.7/438.7 kB\u001b[0m \u001b[31m33.2 MB/s\u001b[0m eta \u001b[36m0:00:00\u001b[0m\n",
            "\u001b[?25hRequirement already satisfied: termcolor>=1.1.0 in /usr/local/lib/python3.10/dist-packages (from tensorflow==2.10.0) (2.4.0)\n",
            "Requirement already satisfied: typing-extensions>=3.6.6 in /usr/local/lib/python3.10/dist-packages (from tensorflow==2.10.0) (4.5.0)\n",
            "Requirement already satisfied: wrapt>=1.11.0 in /usr/local/lib/python3.10/dist-packages (from tensorflow==2.10.0) (1.14.1)\n",
            "Requirement already satisfied: wheel<1.0,>=0.23.0 in /usr/local/lib/python3.10/dist-packages (from astunparse>=1.6.0->tensorflow==2.10.0) (0.42.0)\n",
            "Requirement already satisfied: google-auth<3,>=1.6.3 in /usr/local/lib/python3.10/dist-packages (from tensorboard<2.11,>=2.10->tensorflow==2.10.0) (2.17.3)\n",
            "Collecting google-auth-oauthlib<0.5,>=0.4.1 (from tensorboard<2.11,>=2.10->tensorflow==2.10.0)\n",
            "  Downloading google_auth_oauthlib-0.4.6-py2.py3-none-any.whl (18 kB)\n",
            "Requirement already satisfied: markdown>=2.6.8 in /usr/local/lib/python3.10/dist-packages (from tensorboard<2.11,>=2.10->tensorflow==2.10.0) (3.5.1)\n",
            "Requirement already satisfied: requests<3,>=2.21.0 in /usr/local/lib/python3.10/dist-packages (from tensorboard<2.11,>=2.10->tensorflow==2.10.0) (2.31.0)\n",
            "Collecting tensorboard-data-server<0.7.0,>=0.6.0 (from tensorboard<2.11,>=2.10->tensorflow==2.10.0)\n",
            "  Downloading tensorboard_data_server-0.6.1-py3-none-manylinux2010_x86_64.whl (4.9 MB)\n",
            "\u001b[2K     \u001b[90m━━━━━━━━━━━━━━━━━━━━━━━━━━━━━━━━━━━━━━━━\u001b[0m \u001b[32m4.9/4.9 MB\u001b[0m \u001b[31m38.3 MB/s\u001b[0m eta \u001b[36m0:00:00\u001b[0m\n",
            "\u001b[?25hCollecting tensorboard-plugin-wit>=1.6.0 (from tensorboard<2.11,>=2.10->tensorflow==2.10.0)\n",
            "  Downloading tensorboard_plugin_wit-1.8.1-py3-none-any.whl (781 kB)\n",
            "\u001b[2K     \u001b[90m━━━━━━━━━━━━━━━━━━━━━━━━━━━━━━━━━━━━━━━━\u001b[0m \u001b[32m781.3/781.3 kB\u001b[0m \u001b[31m41.6 MB/s\u001b[0m eta \u001b[36m0:00:00\u001b[0m\n",
            "\u001b[?25hRequirement already satisfied: werkzeug>=1.0.1 in /usr/local/lib/python3.10/dist-packages (from tensorboard<2.11,>=2.10->tensorflow==2.10.0) (3.0.1)\n",
            "Requirement already satisfied: cachetools<6.0,>=2.0.0 in /usr/local/lib/python3.10/dist-packages (from google-auth<3,>=1.6.3->tensorboard<2.11,>=2.10->tensorflow==2.10.0) (5.3.2)\n",
            "Requirement already satisfied: pyasn1-modules>=0.2.1 in /usr/local/lib/python3.10/dist-packages (from google-auth<3,>=1.6.3->tensorboard<2.11,>=2.10->tensorflow==2.10.0) (0.3.0)\n",
            "Requirement already satisfied: rsa<5,>=3.1.4 in /usr/local/lib/python3.10/dist-packages (from google-auth<3,>=1.6.3->tensorboard<2.11,>=2.10->tensorflow==2.10.0) (4.9)\n",
            "Requirement already satisfied: requests-oauthlib>=0.7.0 in /usr/local/lib/python3.10/dist-packages (from google-auth-oauthlib<0.5,>=0.4.1->tensorboard<2.11,>=2.10->tensorflow==2.10.0) (1.3.1)\n",
            "Requirement already satisfied: charset-normalizer<4,>=2 in /usr/local/lib/python3.10/dist-packages (from requests<3,>=2.21.0->tensorboard<2.11,>=2.10->tensorflow==2.10.0) (3.3.2)\n",
            "Requirement already satisfied: idna<4,>=2.5 in /usr/local/lib/python3.10/dist-packages (from requests<3,>=2.21.0->tensorboard<2.11,>=2.10->tensorflow==2.10.0) (3.6)\n",
            "Requirement already satisfied: urllib3<3,>=1.21.1 in /usr/local/lib/python3.10/dist-packages (from requests<3,>=2.21.0->tensorboard<2.11,>=2.10->tensorflow==2.10.0) (2.0.7)\n",
            "Requirement already satisfied: certifi>=2017.4.17 in /usr/local/lib/python3.10/dist-packages (from requests<3,>=2.21.0->tensorboard<2.11,>=2.10->tensorflow==2.10.0) (2023.11.17)\n",
            "Requirement already satisfied: MarkupSafe>=2.1.1 in /usr/local/lib/python3.10/dist-packages (from werkzeug>=1.0.1->tensorboard<2.11,>=2.10->tensorflow==2.10.0) (2.1.3)\n",
            "Requirement already satisfied: pyasn1<0.6.0,>=0.4.6 in /usr/local/lib/python3.10/dist-packages (from pyasn1-modules>=0.2.1->google-auth<3,>=1.6.3->tensorboard<2.11,>=2.10->tensorflow==2.10.0) (0.5.1)\n",
            "Requirement already satisfied: oauthlib>=3.0.0 in /usr/local/lib/python3.10/dist-packages (from requests-oauthlib>=0.7.0->google-auth-oauthlib<0.5,>=0.4.1->tensorboard<2.11,>=2.10->tensorflow==2.10.0) (3.2.2)\n",
            "Installing collected packages: tensorboard-plugin-wit, keras, tensorflow-estimator, tensorboard-data-server, protobuf, keras-preprocessing, gast, einops, google-auth-oauthlib, tensorboard, tensorflow\n",
            "  Attempting uninstall: keras\n",
            "    Found existing installation: keras 2.15.0\n",
            "    Uninstalling keras-2.15.0:\n",
            "      Successfully uninstalled keras-2.15.0\n",
            "  Attempting uninstall: tensorflow-estimator\n",
            "    Found existing installation: tensorflow-estimator 2.15.0\n",
            "    Uninstalling tensorflow-estimator-2.15.0:\n",
            "      Successfully uninstalled tensorflow-estimator-2.15.0\n",
            "  Attempting uninstall: tensorboard-data-server\n",
            "    Found existing installation: tensorboard-data-server 0.7.2\n",
            "    Uninstalling tensorboard-data-server-0.7.2:\n",
            "      Successfully uninstalled tensorboard-data-server-0.7.2\n",
            "  Attempting uninstall: protobuf\n",
            "    Found existing installation: protobuf 3.20.3\n",
            "    Uninstalling protobuf-3.20.3:\n",
            "      Successfully uninstalled protobuf-3.20.3\n",
            "  Attempting uninstall: gast\n",
            "    Found existing installation: gast 0.5.4\n",
            "    Uninstalling gast-0.5.4:\n",
            "      Successfully uninstalled gast-0.5.4\n",
            "  Attempting uninstall: google-auth-oauthlib\n",
            "    Found existing installation: google-auth-oauthlib 1.2.0\n",
            "    Uninstalling google-auth-oauthlib-1.2.0:\n",
            "      Successfully uninstalled google-auth-oauthlib-1.2.0\n",
            "  Attempting uninstall: tensorboard\n",
            "    Found existing installation: tensorboard 2.15.1\n",
            "    Uninstalling tensorboard-2.15.1:\n",
            "      Successfully uninstalled tensorboard-2.15.1\n",
            "  Attempting uninstall: tensorflow\n",
            "    Found existing installation: tensorflow 2.15.0\n",
            "    Uninstalling tensorflow-2.15.0:\n",
            "      Successfully uninstalled tensorflow-2.15.0\n",
            "\u001b[31mERROR: pip's dependency resolver does not currently take into account all the packages that are installed. This behaviour is the source of the following dependency conflicts.\n",
            "pandas-gbq 0.19.2 requires google-auth-oauthlib>=0.7.0, but you have google-auth-oauthlib 0.4.6 which is incompatible.\n",
            "tensorflow-datasets 4.9.4 requires protobuf>=3.20, but you have protobuf 3.19.6 which is incompatible.\n",
            "tensorflow-metadata 1.14.0 requires protobuf<4.21,>=3.20.3, but you have protobuf 3.19.6 which is incompatible.\u001b[0m\u001b[31m\n",
            "\u001b[0mSuccessfully installed einops-0.7.0 gast-0.4.0 google-auth-oauthlib-0.4.6 keras-2.10.0 keras-preprocessing-1.1.2 protobuf-3.19.6 tensorboard-2.10.1 tensorboard-data-server-0.6.1 tensorboard-plugin-wit-1.8.1 tensorflow-2.10.0 tensorflow-estimator-2.10.0\n"
          ]
        },
        {
          "output_type": "display_data",
          "data": {
            "application/vnd.colab-display-data+json": {
              "pip_warning": {
                "packages": [
                  "google"
                ]
              }
            }
          },
          "metadata": {}
        }
      ],
      "source": [
        "!pip install einops opencv-python tensorflow==2.10.0"
      ]
    },
    {
      "cell_type": "markdown",
      "metadata": {
        "id": "W9Dcg9J69XTs"
      },
      "source": [
        "# Import required libraries"
      ]
    },
    {
      "cell_type": "code",
      "execution_count": null,
      "metadata": {
        "id": "jwKG_czowkrA"
      },
      "outputs": [],
      "source": [
        "import cv2\n",
        "import einops\n",
        "import matplotlib.pyplot as plt\n",
        "import numpy as np\n",
        "import random\n",
        "import tensorflow as tf\n",
        "\n",
        "import keras\n",
        "from keras import layers"
      ]
    },
    {
      "cell_type": "markdown",
      "metadata": {
        "id": "pjN9t2pS9jfR"
      },
      "source": [
        "# Define global constants"
      ]
    },
    {
      "cell_type": "code",
      "execution_count": null,
      "metadata": {
        "id": "QfhzCOgGECsr"
      },
      "outputs": [],
      "source": [
        "TARGET_SIZE = (224, 224)\n",
        "HEIGHT = 224\n",
        "WIDTH = 224"
      ]
    },
    {
      "cell_type": "markdown",
      "metadata": {
        "id": "YdTKHiQE9poN"
      },
      "source": [
        "# Videos processing\n",
        "\n",
        "Here we define the utility functions which are used for processing the videos files, that includes:\n",
        "\n",
        "\n",
        "1. `frames_from_video_file` splits the videos into frames, reads the `need_frames` amount of frames, during the selected time window (from `start_time_ms` to `end_time_ms`) out of a video file, and returns them as a NumPy array.  \n",
        "2. `format_frames` which convert image datatype to `tf.float32` which allows more accurate computations and followed by resize to `224x224` with padding if necessary"
      ]
    },
    {
      "cell_type": "code",
      "execution_count": null,
      "metadata": {
        "id": "9b2glAhTD6Qr"
      },
      "outputs": [],
      "source": [
        "def format_frames(frame, output_size):\n",
        "    frame = tf.image.convert_image_dtype(frame, tf.float32)\n",
        "    frame = tf.image.resize_with_pad(frame, *output_size)\n",
        "    return frame\n",
        "\n",
        "\n",
        "def frames_from_video_file(video_path, start_time_ms, end_time_ms, need_frames = 90, output_size = TARGET_SIZE):\n",
        "    result = []\n",
        "\n",
        "    src = cv2.VideoCapture(str(video_path))\n",
        "    src.set(cv2.CAP_PROP_POS_MSEC, start_time_ms)\n",
        "\n",
        "    while(src.isOpened() and need_frames > 0):\n",
        "        ret, frame = src.read()\n",
        "        if ret:\n",
        "            need_frames -= 1\n",
        "            result.append(format_frames(frame, output_size))\n",
        "        elif src.get(cv2.CAP_PROP_POS_MSEC) <= end_time_ms:\n",
        "            result.append(np.zeros_like(result[0]))\n",
        "        else:\n",
        "            break\n",
        "\n",
        "    src.release()\n",
        "    result = np.array(result)[..., [2, 1, 0]]\n",
        "    return result"
      ]
    },
    {
      "cell_type": "markdown",
      "source": [
        "FrameGenerator class is a generator that yields batches of video frames along with corresponding class numerical labels (\"non-flapping\": 0, \"flapping\": 1)"
      ],
      "metadata": {
        "id": "_rfSvVYBu9Gs"
      }
    },
    {
      "cell_type": "code",
      "execution_count": null,
      "metadata": {
        "id": "Ahkw9mdcD1kd"
      },
      "outputs": [],
      "source": [
        "class FrameGenerator:\n",
        "    def __init__(self, videos_and_segments, n_frames=90):\n",
        "        self.videos_and_segments = videos_and_segments\n",
        "        self.n_frames = n_frames\n",
        "        self.class_label_mapping = {\"non-flapping\": 0, \"flapping\": 1}\n",
        "\n",
        "\n",
        "    def __call__(self):\n",
        "        for video_path, segments in self.videos_and_segments:\n",
        "            for start_time_ms, end_time_ms, class_name in segments:\n",
        "                video_frames = frames_from_video_file(video_path, start_time_ms, end_time_ms, self.n_frames)\n",
        "                yield video_frames, self.class_label_mapping[class_name]\n"
      ]
    },
    {
      "cell_type": "markdown",
      "source": [
        "`videos_and_segments` consists the manually extracted information from the data preparation stage where we identified the instances of self-stimulating behaviors displayed by the children in each videos and the corresponding timecodes. It is then converted to an array which is structured as follows: `video_path`, `[start time, end time, label]` that represents the video path, start time, end time, and the corresponding label."
      ],
      "metadata": {
        "id": "zSDpjU_8vu2r"
      }
    },
    {
      "cell_type": "code",
      "execution_count": null,
      "metadata": {
        "id": "TVryynMkEsfM"
      },
      "outputs": [],
      "source": [
        "videos_and_segments = [\n",
        "    (\"videos/1.mp4\", [(35000, 41000, 'flapping'), (65000, 67000, 'flapping'), (97000, 101000, 'flapping'), (110000, 114000, 'flapping'), (135000, 138000, 'flapping')]),\n",
        "    (\"videos/3.mp4\", [(0, 4000, 'flapping'), (33000, 48000, 'flapping'), (66000, 83000, 'flapping'), (19000, 27000, 'non-flapping')]),\n",
        "    (\"videos/4.mp4\", [(5000, 9000, 'flapping')]),\n",
        "    (\"videos/5.mp4\", [(4000, 8000, 'flapping'), (9000, 11000, 'flapping')]),\n",
        "    (\"videos/6.mp4\", [(1000, 2000, 'flapping'), (5000, 8000, 'flapping'), (49000, 51000, 'flapping'), (12000, 14000, 'flapping'), (19000, 22000, 'flapping'), (26000, 27000, 'flapping'), (61000, 63000, 'flapping'), (70000, 71000, 'flapping')]),\n",
        "    (\"videos/7.mp4\", [(5000, 8000, 'flapping'), (15000, 18000, 'flapping')]),\n",
        "    (\"videos/8.mp4\", [(2000, 5000, 'flapping'), (8000, 11000, 'flapping'), (14000, 17000, 'flapping')]),\n",
        "    (\"videos/9.mp4\", [(1000, 6000, 'flapping'), (19000, 26000, 'flapping')]),\n",
        "    (\"videos/10.mp4\", [(1000, 2000, 'flapping'), (4000, 5000, 'flapping'), (15000, 18000, 'flapping'), (21000, 22000, 'flapping'), (24000, 26000, 'flapping'), (30000, 31000, 'flapping'), (39000, 43000, 'flapping'), (69000, 74000, 'flapping'), (89000, 91000, 'flapping'), (99000, 100000, 'flapping')]),\n",
        "    (\"videos/11.mp4\", [(0, 1000, 'flapping')]),\n",
        "    (\"videos/12.mp4\", [(14000, 18000, 'flapping'), (34000, 38000, 'flapping')]),\n",
        "    (\"videos/13.mp4\", [(7000, 13000, 'flapping'), (22000, 33000, 'flapping'), (44000, 57000, 'flapping')]),\n",
        "    (\"videos/14.mp4\", [(1000, 2000, 'non-flapping'), (4000, 8000, 'non-flapping'), (10000, 17000, 'non-flapping'), (20000, 25000, 'non-flapping'), (31000, 36000, 'non-flapping'), (39000, 45000, 'non-flapping'), (47000, 59000, 'non-flapping'), (64000, 79000, 'non-flapping'), (85000, 105000, 'non-flapping'), (114000, 121000, 'non-flapping'), (127000, 131000, 'non-flapping'), (144000, 146000, 'non-flapping')]),\n",
        "    (\"videos/15.mp4\", [(11000, 12000, 'flapping'), (18000, 21000, 'flapping'), (47000, 51000, 'flapping'), (70000, 78000, 'flapping'), (89000, 92000, 'flapping'), (95000, 96000, 'flapping'), (99000, 107000, 'flapping'), (123000, 125000, 'flapping'), (128000, 136000, 'flapping'), (141000, 142000, 'flapping'), (196000, 201000, 'flapping'), (219000, 223000, 'flapping'), (240000, 242000, 'flapping')]),\n",
        "    (\"videos/16.mp4\", [(3000, 8000, 'non-flapping'), (9000, 11000, 'non-flapping'), (12000, 13000, 'non-flapping'), (15000, 30000, 'non-flapping'), (42000, 45000, 'non-flapping'), (49000, 50000, 'non-flapping'), (64000, 72000, 'non-flapping'), (74000, 76000, 'non-flapping'), (78000, 81000, 'non-flapping'), (82000, 85000, 'non-flapping'), (88000, 91000, 'non-flapping'), (93000, 95000, 'non-flapping'), (96000, 99000, 'non-flapping'), (104000, 118000, 'non-flapping'), (119000, 129000, 'non-flapping'), (130000, 153000, 'non-flapping'), (154000, 156000, 'non-flapping'), (160000, 162000, 'non-flapping')]),\n",
        "    (\"videos/17.mp4\", [(4000, 6000, 'non-flapping'), (7000, 10000, 'non-flapping'), (31000, 48000, 'non-flapping') ]),\n",
        "    (\"videos/18.mp4\", [(19000, 24000, 'flapping'), (33000, 38000, 'flapping')]),\n",
        "    (\"videos/19.mp4\", [(5000, 8000, 'non-flapping'), (30000, 31000, 'non-flapping'), (32000, 41000, 'flapping'), (43000, 49000, 'flapping')]),\n",
        "    (\"videos/20.mp4\", [(4000, 7000, 'flapping'), (28000, 30000, 'flapping'), (42000, 43000, 'flapping'), (45000, 46000, 'flapping')]),\n",
        "    (\"videos/21.mp4\", [(172000, 192000, 'flapping'), (205000, 218000, 'flapping')]),\n",
        "    (\"videos/22.mp4\", [(80000, 84000, 'flapping'), (94000, 97000, 'flapping')]),\n",
        "    (\"videos/23.mp4\", [(0, 2000, 'flapping'), (8000, 10000, 'flapping'), (13000, 16000, 'flapping')]),\n",
        "    (\"videos/24.mp4\", [(2000, 4000, 'flapping'), (17000, 18000, 'flapping'), (45000, 50000, 'flapping'), (63000, 65000, 'flapping'), (77000, 79000, 'flapping'), (80000, 83000, 'flapping'), (86000, 89000, 'flapping'), (96000, 101000, 'flapping'), (111000, 120000, 'flapping'), (4000, 6000, 'non-flapping'), (32000, 36000, 'non-flapping'), (41000, 44000, 'non-flapping'), (53000, 55000, 'non-flapping'), (65000, 67000, 'non-flapping')]),\n",
        "    (\"videos/25.mp4\", [(7000, 9000, 'flapping'), (10000, 13000, 'flapping'), (20000, 22000, 'flapping'), (32000, 34000, 'flapping'), (39000, 40000, 'flapping')]),\n",
        "    (\"videos/26.mp4\", [(5000, 8000, 'flapping')])\n",
        "]"
      ]
    },
    {
      "cell_type": "markdown",
      "source": [
        "Then, we setup a TensorFlow dataset pipeline for training, validation, and testing using the FrameGenerator class.\n",
        "1. The splitting ratios are 70% for training (train_size), 15% for validation (val_size), and 15% for testing (test_size).\n",
        "2. The full dataset is shuffled using shuffle to randomize the order of elements.\n",
        "3. Training, validation, and test datasets are batched using batch to create batches of data with the specified batch size (batch_size)."
      ],
      "metadata": {
        "id": "58h4rqxYwujM"
      }
    },
    {
      "cell_type": "code",
      "source": [
        "output_signature = (tf.TensorSpec(shape = (None, None, None, 3), dtype = tf.float32),\n",
        "                    tf.TensorSpec(shape = (), dtype = tf.int16))\n",
        "full_dataset = tf.data.Dataset.from_generator(FrameGenerator(videos_and_segments, 10),\n",
        "                                         output_signature = output_signature)\n",
        "dataset_size = sum(1 for _ in full_dataset)\n",
        "batch_size = 8\n",
        "\n",
        "train_size = int(0.7 * dataset_size)\n",
        "val_size = int(0.15 * dataset_size)\n",
        "test_size = int(0.15 * dataset_size)\n",
        "\n",
        "full_dataset = full_dataset.shuffle(dataset_size)\n",
        "train_dataset = full_dataset.take(train_size)\n",
        "test_dataset = full_dataset.skip(train_size)\n",
        "val_dataset = test_dataset.skip(val_size)\n",
        "test_dataset = test_dataset.take(test_size)\n",
        "\n",
        "# Batch the data\n",
        "train_dataset = train_dataset.batch(batch_size)\n",
        "val_dataset = val_dataset.batch(batch_size)\n",
        "test_dataset = test_dataset.batch(batch_size)"
      ],
      "metadata": {
        "id": "UkpABHnQwtAc"
      },
      "execution_count": null,
      "outputs": []
    },
    {
      "cell_type": "markdown",
      "metadata": {
        "id": "GsBCvJkm9xYj"
      },
      "source": [
        "# ResNet Model\n",
        "\n",
        "We designed a neural network architecture based on the ResNet design with a (2+1)D convolutional approach"
      ]
    },
    {
      "cell_type": "code",
      "execution_count": null,
      "metadata": {
        "id": "wgGpXoLmiO3C"
      },
      "outputs": [],
      "source": [
        "\"\"\"\n",
        "(2+1)D Convolutional layers\n",
        "- first convolution operates on the spatial dimensions\n",
        "- second on the temporal dimension\n",
        "\"\"\"\n",
        "class Conv2Plus1D(keras.layers.Layer):\n",
        "    def __init__(self, filters, kernel_size, padding):\n",
        "        super().__init__()\n",
        "        self.seq = keras.Sequential([\n",
        "            # Spatial decomposition\n",
        "            layers.Conv3D(filters=filters,\n",
        "                            kernel_size=(1, kernel_size[1], kernel_size[2]),\n",
        "                            padding=padding),\n",
        "            # Temporal decomposition\n",
        "            layers.Conv3D(filters=filters,\n",
        "                            kernel_size=(kernel_size[0], 1, 1),\n",
        "                            padding=padding)\n",
        "        ])\n",
        "\n",
        "    def call(self, x):\n",
        "        return self.seq(x)\n",
        "\n",
        "\n",
        "\"\"\"\n",
        "ResNet - Main branch\n",
        "(2+1)D convolution, layer normalization and ReLU.\n",
        "\"\"\"\n",
        "class Main(keras.layers.Layer):\n",
        "    def __init__(self, filters, kernel_size):\n",
        "        super().__init__()\n",
        "        self.seq = keras.Sequential([\n",
        "            Conv2Plus1D(filters=filters,\n",
        "                        kernel_size=kernel_size,\n",
        "                        padding='same'),\n",
        "            layers.LayerNormalization(),\n",
        "            layers.ReLU(),\n",
        "            Conv2Plus1D(filters=filters,\n",
        "                        kernel_size=kernel_size,\n",
        "                        padding='same'),\n",
        "            layers.LayerNormalization()\n",
        "        ])\n",
        "\n",
        "    def call(self, x):\n",
        "        return self.seq(x)\n",
        "\n",
        "\n",
        "\"\"\"\n",
        "ResNet - shortcut/skip connection\n",
        "Simple linear projection\n",
        "\"\"\"\n",
        "class Shortcut(keras.layers.Layer):\n",
        "    def __init__(self, units):\n",
        "        super().__init__()\n",
        "        self.seq = keras.Sequential([\n",
        "            layers.Dense(units),\n",
        "            layers.LayerNormalization()\n",
        "        ])\n",
        "\n",
        "    def call(self, x):\n",
        "        return self.seq(x)\n",
        "\n",
        "\n",
        "\"\"\"\n",
        "This class defines a layer for resizing video frames.\n",
        "- It uses the Resizing layer from Keras to downsample the video frames.\n",
        "- Additionally use the einops library to resize the tensor.\n",
        "\"\"\"\n",
        "class ResizeVideo(keras.layers.Layer):\n",
        "    def __init__(self, height, width):\n",
        "        super().__init__()\n",
        "        self.height = height\n",
        "        self.width = width\n",
        "        self.resizing_layer = layers.Resizing(self.height, self.width)\n",
        "\n",
        "    def call(self, video):\n",
        "        # b stands for batch size, t stands for time, h stands for height,\n",
        "        # w stands for width, and c stands for the number of channels.\n",
        "        old_shape = einops.parse_shape(video, 'b t h w c')\n",
        "        images = einops.rearrange(video, 'b t h w c -> (b t) h w c')\n",
        "        images = self.resizing_layer(images)\n",
        "        videos = einops.rearrange(\n",
        "            images, '(b t) h w c -> b t h w c',\n",
        "            t = old_shape['t'])\n",
        "        return videos\n",
        "\n",
        "\n",
        "\"\"\"\n",
        "Constructs a residual block by applying main branch's operations.\n",
        "If there's a mismatch in the number of channels between the input and output,\n",
        "then the input will go through the shortcut (linear projection)\n",
        "\"\"\"\n",
        "def add_residual_block(input, filters, kernel_size):\n",
        "    out = Main(filters, kernel_size)(input)\n",
        "    res = input\n",
        "    if out.shape[-1] != input.shape[-1]:\n",
        "        res = Shortcut(out.shape[-1])(res)\n",
        "\n",
        "    return layers.add([res, out])"
      ]
    },
    {
      "cell_type": "code",
      "execution_count": null,
      "metadata": {
        "id": "luFnBc2ZiO5i"
      },
      "outputs": [],
      "source": [
        "input_shape = (None, 10, HEIGHT, WIDTH, 3)\n",
        "input = layers.Input(shape=(input_shape[1:]))\n",
        "x = input\n",
        "\n",
        "x = Conv2Plus1D(filters=16, kernel_size=(3, 7, 7), padding='same')(x)\n",
        "x = layers.BatchNormalization()(x)\n",
        "x = layers.ReLU()(x)\n",
        "\n",
        "# Block 1 - resizes video frames' spatial dimensions to half of H and W\n",
        "x = ResizeVideo(HEIGHT // 2, WIDTH // 2)(x)\n",
        "x = add_residual_block(x, 16, (3, 3, 3))\n",
        "\n",
        "# Block 2 - resizes video frames' spatial dimensions to one-fourth of H and W\n",
        "x = ResizeVideo(HEIGHT // 4, WIDTH // 4)(x)\n",
        "x = add_residual_block(x, 32, (3, 3, 3))\n",
        "\n",
        "# Block 3 - resizes video frames' spatial dimensions to one-eighth of H and W\n",
        "x = ResizeVideo(HEIGHT // 8, WIDTH // 8)(x)\n",
        "x = add_residual_block(x, 64, (3, 3, 3))\n",
        "\n",
        "# Block 4 - resizes video frames' spatial dimensions to one-sixteenth of H and W\n",
        "x = ResizeVideo(HEIGHT // 16, WIDTH // 16)(x)\n",
        "x = add_residual_block(x, 128, (3, 3, 3))\n",
        "\n",
        "x = layers.GlobalAveragePooling3D()(x)\n",
        "x = layers.Flatten()(x)\n",
        "x = layers.Dense(10)(x)\n",
        "\n",
        "model = keras.Model(input, x)\n",
        "\n",
        "model.compile(loss = keras.losses.SparseCategoricalCrossentropy(from_logits=True),\n",
        "              optimizer = keras.optimizers.Adam(learning_rate = 0.0001),\n",
        "              metrics = ['accuracy'])"
      ]
    },
    {
      "cell_type": "code",
      "execution_count": null,
      "metadata": {
        "colab": {
          "base_uri": "https://localhost:8080/"
        },
        "id": "Ccm5Oa0KkGP3",
        "outputId": "401dbf15-3c38-40c2-bfa1-fb5cff4ef1d5"
      },
      "outputs": [
        {
          "output_type": "stream",
          "name": "stdout",
          "text": [
            "Epoch 1/10\n",
            "11/11 [==============================] - 267s 23s/step - loss: 1.7694 - accuracy: 0.5341 - val_loss: 0.5796 - val_accuracy: 0.7500\n",
            "Epoch 2/10\n",
            "11/11 [==============================] - 262s 22s/step - loss: 0.6917 - accuracy: 0.6023 - val_loss: 0.6019 - val_accuracy: 0.7500\n",
            "Epoch 3/10\n",
            "11/11 [==============================] - 264s 22s/step - loss: 0.6317 - accuracy: 0.6477 - val_loss: 0.5301 - val_accuracy: 0.7500\n",
            "Epoch 4/10\n",
            "11/11 [==============================] - 260s 22s/step - loss: 0.5491 - accuracy: 0.7159 - val_loss: 0.4036 - val_accuracy: 0.8500\n",
            "Epoch 5/10\n",
            "11/11 [==============================] - 263s 22s/step - loss: 0.5716 - accuracy: 0.6818 - val_loss: 0.5095 - val_accuracy: 0.7500\n",
            "Epoch 6/10\n",
            "11/11 [==============================] - 263s 22s/step - loss: 0.4917 - accuracy: 0.7159 - val_loss: 0.5757 - val_accuracy: 0.7000\n",
            "Epoch 7/10\n",
            "11/11 [==============================] - 266s 23s/step - loss: 0.6644 - accuracy: 0.6591 - val_loss: 0.8400 - val_accuracy: 0.6000\n",
            "Epoch 8/10\n",
            "11/11 [==============================] - 254s 21s/step - loss: 0.6689 - accuracy: 0.5909 - val_loss: 1.7387 - val_accuracy: 0.4500\n",
            "Epoch 9/10\n",
            "11/11 [==============================] - 256s 21s/step - loss: 0.5300 - accuracy: 0.7045 - val_loss: 0.5108 - val_accuracy: 0.7000\n",
            "Epoch 10/10\n",
            "11/11 [==============================] - 255s 22s/step - loss: 0.4450 - accuracy: 0.7500 - val_loss: 0.5584 - val_accuracy: 0.7500\n"
          ]
        }
      ],
      "source": [
        "history = model.fit(x = train_dataset, epochs = 10, validation_data = val_dataset)"
      ]
    },
    {
      "cell_type": "code",
      "execution_count": null,
      "metadata": {
        "colab": {
          "base_uri": "https://localhost:8080/",
          "height": 777
        },
        "id": "HTh71JX304Cq",
        "outputId": "efe52c46-f797-48c0-e844-e4bc271fc51d"
      },
      "outputs": [
        {
          "output_type": "display_data",
          "data": {
            "text/plain": [
              "<Figure size 1850x1050 with 2 Axes>"
            ],
            "image/png": "[encoded data removed]"
          },
          "metadata": {}
        }
      ],
      "source": [
        "def plot_history(history):\n",
        "    fig, (ax1, ax2) = plt.subplots(2)\n",
        "\n",
        "    fig.set_size_inches(18.5, 10.5)\n",
        "\n",
        "    # Plot loss\n",
        "    ax1.set_title('Loss')\n",
        "    ax1.plot(history.history['loss'], label = 'train')\n",
        "    ax1.plot(history.history['val_loss'], label = 'test')\n",
        "    ax1.set_ylabel('Loss')\n",
        "\n",
        "    # Determine upper bound of y-axis\n",
        "    max_loss = max(history.history['loss'] + history.history['val_loss'])\n",
        "\n",
        "    ax1.set_ylim([0, np.ceil(max_loss)])\n",
        "    ax1.set_xlabel('Epoch')\n",
        "    ax1.legend(['Train', 'Validation'])\n",
        "\n",
        "    # Plot accuracy\n",
        "    ax2.set_title('Accuracy')\n",
        "    ax2.plot(history.history['accuracy'],  label = 'train')\n",
        "    ax2.plot(history.history['val_accuracy'], label = 'test')\n",
        "    ax2.set_ylabel('Accuracy')\n",
        "    ax2.set_ylim([0, 1])\n",
        "    ax2.set_xlabel('Epoch')\n",
        "    ax2.legend(['Train', 'Validation'])\n",
        "\n",
        "    plt.show()\n",
        "\n",
        "plot_history(history)"
      ]
    },
    {
      "cell_type": "markdown",
      "source": [
        "# Model evaluation"
      ],
      "metadata": {
        "id": "gErbTOOLyYRp"
      }
    },
    {
      "cell_type": "code",
      "execution_count": null,
      "metadata": {
        "colab": {
          "base_uri": "https://localhost:8080/"
        },
        "id": "_jfPP7AUaV5_",
        "outputId": "b5c47a4e-013d-4553-d112-8346555e756b"
      },
      "outputs": [
        {
          "output_type": "stream",
          "name": "stdout",
          "text": [
            "3/3 [==============================] - 41s 3s/step - loss: 0.6414 - accuracy: 0.7222\n",
            "Accuracy: {'loss': 0.641449511051178, 'accuracy': 0.7222222089767456}\n"
          ]
        }
      ],
      "source": [
        "accuracy = model.evaluate(test_dataset, return_dict=True)\n",
        "print(f\"Accuracy: {accuracy}\")"
      ]
    },
    {
      "cell_type": "markdown",
      "source": [
        "# Acknowledgement\n",
        "This assignment is inspired from https://www.tensorflow.org/tutorials/video/video_classification"
      ],
      "metadata": {
        "id": "OSjHxwikzFri"
      }
    }
  ],
  "metadata": {
    "colab": {
      "collapsed_sections": [
        "VLuM_wCa1OHP",
        "e7dyyy39WaNv"
      ],
      "provenance": []
    },
    "kernelspec": {
      "display_name": "Python 3",
      "name": "python3"
    },
    "language_info": {
      "name": "python"
    }
  },
  "nbformat": 4,
  "nbformat_minor": 0
}